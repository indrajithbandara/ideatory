{
 "cells": [
  {
   "cell_type": "code",
   "execution_count": 27,
   "metadata": {
    "collapsed": true
   },
   "outputs": [],
   "source": [
    "# special IPython command to prepare the notebook for matplotlib\n",
    "%matplotlib inline \n",
    "\n",
    "import numpy as np\n",
    "import pandas as pd\n",
    "import scipy.stats as stats\n",
    "import matplotlib.pyplot as plt\n",
    "import sklearn\n",
    "import statsmodels.api as sm\n",
    "import re\n",
    "\n",
    "import seaborn as sns\n",
    "sns.set_style(\"whitegrid\")\n",
    "sns.set_context(\"poster\")\n",
    "\n",
    "# special matplotlib argument for improved plots\n",
    "from matplotlib import rcParams"
   ]
  },
  {
   "cell_type": "code",
   "execution_count": 33,
   "metadata": {
    "collapsed": true
   },
   "outputs": [],
   "source": [
    "columns = ['Timestamp', 'IP Address', 'URL', 'User ID', 'City', 'Region/State', 'Country']"
   ]
  },
  {
   "cell_type": "code",
   "execution_count": 34,
   "metadata": {
    "collapsed": false
   },
   "outputs": [],
   "source": [
    "# load dataset\n",
    "click_stream_data = pd.read_csv('./data/ClickStreamData.txt', sep='\\t', usecols=columns, parse_dates=['Timestamp'])"
   ]
  },
  {
   "cell_type": "code",
   "execution_count": 13,
   "metadata": {
    "collapsed": false
   },
   "outputs": [
    {
     "data": {
      "text/html": [
       "<div style=\"max-height:1000px;max-width:1500px;overflow:auto;\">\n",
       "<table border=\"1\" class=\"dataframe\">\n",
       "  <thead>\n",
       "    <tr style=\"text-align: right;\">\n",
       "      <th></th>\n",
       "      <th>Timestamp</th>\n",
       "      <th>IP Address</th>\n",
       "      <th>URL</th>\n",
       "      <th>User ID</th>\n",
       "      <th>City</th>\n",
       "      <th>Region/State</th>\n",
       "      <th>Country</th>\n",
       "    </tr>\n",
       "  </thead>\n",
       "  <tbody>\n",
       "    <tr>\n",
       "      <th>0</th>\n",
       "      <td>2012-03-22 01:17:00</td>\n",
       "      <td> 99.122.210.17</td>\n",
       "      <td> https://www.ideatory-store.com/SH51443900/VD61...</td>\n",
       "      <td> 6YBY0MC9-IMGB-F69S-8BLX-2NHAMVT8D0F3</td>\n",
       "      <td>     Homestead</td>\n",
       "      <td>    Florida</td>\n",
       "      <td> United States of America</td>\n",
       "    </tr>\n",
       "    <tr>\n",
       "      <th>1</th>\n",
       "      <td>2012-03-22 01:34:00</td>\n",
       "      <td>  69.76.12.236</td>\n",
       "      <td> https://www.ideatory-store.com/SH51443900/VD30...</td>\n",
       "      <td> 4MPY5H71-14AO-Z591-YCKB-K4288KV6V8WH</td>\n",
       "      <td> Coeur D Alene</td>\n",
       "      <td>      Idaho</td>\n",
       "      <td> United States of America</td>\n",
       "    </tr>\n",
       "    <tr>\n",
       "      <th>2</th>\n",
       "      <td>2012-03-22 17:23:00</td>\n",
       "      <td>  67.240.15.11</td>\n",
       "      <td> https://www.ideatory-store.com/SH51443900/VD96...</td>\n",
       "      <td> KTZML6WD-V8GA-JBW9-UWOS-XW2W0K38Y876</td>\n",
       "      <td>    Queensbury</td>\n",
       "      <td>   New York</td>\n",
       "      <td> United States of America</td>\n",
       "    </tr>\n",
       "    <tr>\n",
       "      <th>3</th>\n",
       "      <td>2012-03-22 17:05:00</td>\n",
       "      <td>  67.240.15.11</td>\n",
       "      <td> https://www.ideatory-store.com/SH51443900/VD21...</td>\n",
       "      <td> KTZML6WD-V8GA-JBW9-UWOS-XW2W0K38Y876</td>\n",
       "      <td>    Queensbury</td>\n",
       "      <td>   New York</td>\n",
       "      <td> United States of America</td>\n",
       "    </tr>\n",
       "    <tr>\n",
       "      <th>4</th>\n",
       "      <td>2012-03-22 01:27:00</td>\n",
       "      <td> 98.234.107.79</td>\n",
       "      <td> https://www.ideatory-store.com/SH51443900/VD05...</td>\n",
       "      <td> 21V1Y4O9-B81P-4WRZ-TGQG-SPUCB9KUM326</td>\n",
       "      <td>     Sunnyvale</td>\n",
       "      <td> California</td>\n",
       "      <td> United States of America</td>\n",
       "    </tr>\n",
       "  </tbody>\n",
       "</table>\n",
       "</div>"
      ],
      "text/plain": [
       "            Timestamp     IP Address  \\\n",
       "0 2012-03-22 01:17:00  99.122.210.17   \n",
       "1 2012-03-22 01:34:00   69.76.12.236   \n",
       "2 2012-03-22 17:23:00   67.240.15.11   \n",
       "3 2012-03-22 17:05:00   67.240.15.11   \n",
       "4 2012-03-22 01:27:00  98.234.107.79   \n",
       "\n",
       "                                                 URL  \\\n",
       "0  https://www.ideatory-store.com/SH51443900/VD61...   \n",
       "1  https://www.ideatory-store.com/SH51443900/VD30...   \n",
       "2  https://www.ideatory-store.com/SH51443900/VD96...   \n",
       "3  https://www.ideatory-store.com/SH51443900/VD21...   \n",
       "4  https://www.ideatory-store.com/SH51443900/VD05...   \n",
       "\n",
       "                                User ID           City Region/State  \\\n",
       "0  6YBY0MC9-IMGB-F69S-8BLX-2NHAMVT8D0F3      Homestead      Florida   \n",
       "1  4MPY5H71-14AO-Z591-YCKB-K4288KV6V8WH  Coeur D Alene        Idaho   \n",
       "2  KTZML6WD-V8GA-JBW9-UWOS-XW2W0K38Y876     Queensbury     New York   \n",
       "3  KTZML6WD-V8GA-JBW9-UWOS-XW2W0K38Y876     Queensbury     New York   \n",
       "4  21V1Y4O9-B81P-4WRZ-TGQG-SPUCB9KUM326      Sunnyvale   California   \n",
       "\n",
       "                    Country  \n",
       "0  United States of America  \n",
       "1  United States of America  \n",
       "2  United States of America  \n",
       "3  United States of America  \n",
       "4  United States of America  "
      ]
     },
     "execution_count": 13,
     "metadata": {},
     "output_type": "execute_result"
    }
   ],
   "source": [
    "click_stream_data.head()"
   ]
  },
  {
   "cell_type": "code",
   "execution_count": 19,
   "metadata": {
    "collapsed": true
   },
   "outputs": [],
   "source": [
    "# headers of product category data\n",
    "columns = ['URL', 'Category']"
   ]
  },
  {
   "cell_type": "code",
   "execution_count": 20,
   "metadata": {
    "collapsed": false
   },
   "outputs": [],
   "source": [
    "# load product data\n",
    "product_data = pd.read_csv('./data/ProductCategoryData.txt', sep='\\t', usecols=columns)"
   ]
  },
  {
   "cell_type": "code",
   "execution_count": 23,
   "metadata": {
    "collapsed": false
   },
   "outputs": [
    {
     "data": {
      "text/html": [
       "<div style=\"max-height:1000px;max-width:1500px;overflow:auto;\">\n",
       "<table border=\"1\" class=\"dataframe\">\n",
       "  <thead>\n",
       "    <tr style=\"text-align: right;\">\n",
       "      <th></th>\n",
       "      <th>URL</th>\n",
       "      <th>Category</th>\n",
       "    </tr>\n",
       "  </thead>\n",
       "  <tbody>\n",
       "    <tr>\n",
       "      <th>0</th>\n",
       "      <td>                   https://www.ideatory-store.com/</td>\n",
       "      <td>       books</td>\n",
       "    </tr>\n",
       "    <tr>\n",
       "      <th>1</th>\n",
       "      <td> https://www.ideatory-store.com/SH51443900/VD21...</td>\n",
       "      <td>      movies</td>\n",
       "    </tr>\n",
       "    <tr>\n",
       "      <th>2</th>\n",
       "      <td> https://www.ideatory-store.com/SH51443900/VD66...</td>\n",
       "      <td>       games</td>\n",
       "    </tr>\n",
       "    <tr>\n",
       "      <th>3</th>\n",
       "      <td> https://www.ideatory-store.com/SH51443900/VD90...</td>\n",
       "      <td> electronics</td>\n",
       "    </tr>\n",
       "    <tr>\n",
       "      <th>4</th>\n",
       "      <td> https://www.ideatory-store.com/SH51443900/VD96...</td>\n",
       "      <td>   computers</td>\n",
       "    </tr>\n",
       "  </tbody>\n",
       "</table>\n",
       "</div>"
      ],
      "text/plain": [
       "                                                 URL     Category\n",
       "0                    https://www.ideatory-store.com/        books\n",
       "1  https://www.ideatory-store.com/SH51443900/VD21...       movies\n",
       "2  https://www.ideatory-store.com/SH51443900/VD66...        games\n",
       "3  https://www.ideatory-store.com/SH51443900/VD90...  electronics\n",
       "4  https://www.ideatory-store.com/SH51443900/VD96...    computers"
      ]
     },
     "execution_count": 23,
     "metadata": {},
     "output_type": "execute_result"
    }
   ],
   "source": [
    "product_data.head()"
   ]
  },
  {
   "cell_type": "code",
   "execution_count": 21,
   "metadata": {
    "collapsed": true
   },
   "outputs": [],
   "source": [
    "# headers of user data\n",
    "columns = ['User ID', 'Number of friends', 'College Education']"
   ]
  },
  {
   "cell_type": "code",
   "execution_count": 22,
   "metadata": {
    "collapsed": true
   },
   "outputs": [],
   "source": [
    "# load user data\n",
    "user_data = pd.read_csv('./data/UserProfileData.txt', sep='\\t', usecols=columns)"
   ]
  },
  {
   "cell_type": "code",
   "execution_count": 24,
   "metadata": {
    "collapsed": false
   },
   "outputs": [
    {
     "data": {
      "text/html": [
       "<div style=\"max-height:1000px;max-width:1500px;overflow:auto;\">\n",
       "<table border=\"1\" class=\"dataframe\">\n",
       "  <thead>\n",
       "    <tr style=\"text-align: right;\">\n",
       "      <th></th>\n",
       "      <th>User ID</th>\n",
       "      <th>Number of friends</th>\n",
       "      <th>College Education</th>\n",
       "    </tr>\n",
       "  </thead>\n",
       "  <tbody>\n",
       "    <tr>\n",
       "      <th>0</th>\n",
       "      <td> 72Y0WQ31-XQKU-4LTM-40ZX-PX37G6IK7S59</td>\n",
       "      <td> 113</td>\n",
       "      <td>  No</td>\n",
       "    </tr>\n",
       "    <tr>\n",
       "      <th>1</th>\n",
       "      <td> 5GGQCY44-OK2D-XGS4-GJOY-U4RXBVXF7J3M</td>\n",
       "      <td>  99</td>\n",
       "      <td>  No</td>\n",
       "    </tr>\n",
       "    <tr>\n",
       "      <th>2</th>\n",
       "      <td> 0SIFQG2V-TWFE-0RE7-8DL5-KYR2N4UMTYMY</td>\n",
       "      <td>   0</td>\n",
       "      <td>  No</td>\n",
       "    </tr>\n",
       "    <tr>\n",
       "      <th>3</th>\n",
       "      <td> WSCKFU9U-VQQM-99VL-ZZBS-2EGJ8RR9J55K</td>\n",
       "      <td>   0</td>\n",
       "      <td> Yes</td>\n",
       "    </tr>\n",
       "    <tr>\n",
       "      <th>4</th>\n",
       "      <td> ZYV7RIS4-1G7X-ZCHF-ISUE-BF00R8NB8JHM</td>\n",
       "      <td> 113</td>\n",
       "      <td> Yes</td>\n",
       "    </tr>\n",
       "  </tbody>\n",
       "</table>\n",
       "</div>"
      ],
      "text/plain": [
       "                                User ID  Number of friends College Education\n",
       "0  72Y0WQ31-XQKU-4LTM-40ZX-PX37G6IK7S59                113                No\n",
       "1  5GGQCY44-OK2D-XGS4-GJOY-U4RXBVXF7J3M                 99                No\n",
       "2  0SIFQG2V-TWFE-0RE7-8DL5-KYR2N4UMTYMY                  0                No\n",
       "3  WSCKFU9U-VQQM-99VL-ZZBS-2EGJ8RR9J55K                  0               Yes\n",
       "4  ZYV7RIS4-1G7X-ZCHF-ISUE-BF00R8NB8JHM                113               Yes"
      ]
     },
     "execution_count": 24,
     "metadata": {},
     "output_type": "execute_result"
    }
   ],
   "source": [
    "user_data.head()"
   ]
  },
  {
   "cell_type": "code",
   "execution_count": 35,
   "metadata": {
    "collapsed": true
   },
   "outputs": [],
   "source": [
    "# process column names\n",
    "\n",
    "def preprocess_column_names(col_name):\n",
    "    col_name = col_name.lower()\n",
    "    col_name = re.sub(r'[^a-z]', '', col_name)\n",
    "    \n",
    "    return col_name"
   ]
  },
  {
   "cell_type": "code",
   "execution_count": 37,
   "metadata": {
    "collapsed": false
   },
   "outputs": [],
   "source": [
    "click_stream_data.columns = click_stream_data.columns.map(preprocess_column_names)\n",
    "user_data.columns = user_data.columns.map(preprocess_column_names)\n",
    "product_data.columns = product_data.columns.map(preprocess_column_names)"
   ]
  },
  {
   "cell_type": "code",
   "execution_count": null,
   "metadata": {
    "collapsed": true
   },
   "outputs": [],
   "source": []
  },
  {
   "cell_type": "code",
   "execution_count": null,
   "metadata": {
    "collapsed": true
   },
   "outputs": [],
   "source": []
  },
  {
   "cell_type": "code",
   "execution_count": null,
   "metadata": {
    "collapsed": true
   },
   "outputs": [],
   "source": []
  },
  {
   "cell_type": "code",
   "execution_count": null,
   "metadata": {
    "collapsed": true
   },
   "outputs": [],
   "source": []
  },
  {
   "cell_type": "code",
   "execution_count": null,
   "metadata": {
    "collapsed": true
   },
   "outputs": [],
   "source": []
  },
  {
   "cell_type": "code",
   "execution_count": null,
   "metadata": {
    "collapsed": true
   },
   "outputs": [],
   "source": []
  },
  {
   "cell_type": "code",
   "execution_count": null,
   "metadata": {
    "collapsed": true
   },
   "outputs": [],
   "source": []
  },
  {
   "cell_type": "code",
   "execution_count": null,
   "metadata": {
    "collapsed": true
   },
   "outputs": [],
   "source": []
  }
 ],
 "metadata": {
  "kernelspec": {
   "display_name": "Python 2",
   "language": "python",
   "name": "python2"
  },
  "language_info": {
   "codemirror_mode": {
    "name": "ipython",
    "version": 2
   },
   "file_extension": ".py",
   "mimetype": "text/x-python",
   "name": "python",
   "nbconvert_exporter": "python",
   "pygments_lexer": "ipython2",
   "version": "2.7.10"
  }
 },
 "nbformat": 4,
 "nbformat_minor": 0
}
