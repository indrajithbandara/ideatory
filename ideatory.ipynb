{
 "cells": [
  {
   "cell_type": "code",
   "execution_count": 1,
   "metadata": {
    "collapsed": true
   },
   "outputs": [],
   "source": [
    "# special IPython command to prepare the notebook for matplotlib\n",
    "%matplotlib inline \n",
    "\n",
    "import numpy as np\n",
    "import pandas as pd\n",
    "import scipy.stats as stats\n",
    "import matplotlib.pyplot as plt\n",
    "import sklearn\n",
    "import statsmodels.api as sm\n",
    "import re\n",
    "\n",
    "import seaborn as sns\n",
    "sns.set_style(\"whitegrid\")\n",
    "sns.set_context(\"poster\")\n",
    "\n",
    "# special matplotlib argument for improved plots\n",
    "from matplotlib import rcParams"
   ]
  },
  {
   "cell_type": "code",
   "execution_count": 2,
   "metadata": {
    "collapsed": true
   },
   "outputs": [],
   "source": [
    "# names of column headers\n",
    "columns = ['Timestamp', 'IP Address', 'URL', 'User ID', 'City', 'Region/State', 'Country']"
   ]
  },
  {
   "cell_type": "code",
   "execution_count": 4,
   "metadata": {
    "collapsed": false
   },
   "outputs": [],
   "source": [
    "# load dataset\n",
    "click_stream_data = pd.read_csv('./data/ClickStreamData.txt', sep='\\t', usecols=columns, parse_dates=['Timestamp'])"
   ]
  },
  {
   "cell_type": "code",
   "execution_count": 5,
   "metadata": {
    "collapsed": false
   },
   "outputs": [
    {
     "data": {
      "text/html": [
       "<div style=\"max-height:1000px;max-width:1500px;overflow:auto;\">\n",
       "<table border=\"1\" class=\"dataframe\">\n",
       "  <thead>\n",
       "    <tr style=\"text-align: right;\">\n",
       "      <th></th>\n",
       "      <th>Timestamp</th>\n",
       "      <th>IP Address</th>\n",
       "      <th>URL</th>\n",
       "      <th>User ID</th>\n",
       "      <th>City</th>\n",
       "      <th>Region/State</th>\n",
       "      <th>Country</th>\n",
       "    </tr>\n",
       "  </thead>\n",
       "  <tbody>\n",
       "    <tr>\n",
       "      <th>0</th>\n",
       "      <td>2012-03-22 01:17:00</td>\n",
       "      <td> 99.122.210.17</td>\n",
       "      <td> https://www.ideatory-store.com/SH51443900/VD61...</td>\n",
       "      <td> 6YBY0MC9-IMGB-F69S-8BLX-2NHAMVT8D0F3</td>\n",
       "      <td>     Homestead</td>\n",
       "      <td>    Florida</td>\n",
       "      <td> United States of America</td>\n",
       "    </tr>\n",
       "    <tr>\n",
       "      <th>1</th>\n",
       "      <td>2012-03-22 01:34:00</td>\n",
       "      <td>  69.76.12.236</td>\n",
       "      <td> https://www.ideatory-store.com/SH51443900/VD30...</td>\n",
       "      <td> 4MPY5H71-14AO-Z591-YCKB-K4288KV6V8WH</td>\n",
       "      <td> Coeur D Alene</td>\n",
       "      <td>      Idaho</td>\n",
       "      <td> United States of America</td>\n",
       "    </tr>\n",
       "    <tr>\n",
       "      <th>2</th>\n",
       "      <td>2012-03-22 17:23:00</td>\n",
       "      <td>  67.240.15.11</td>\n",
       "      <td> https://www.ideatory-store.com/SH51443900/VD96...</td>\n",
       "      <td> KTZML6WD-V8GA-JBW9-UWOS-XW2W0K38Y876</td>\n",
       "      <td>    Queensbury</td>\n",
       "      <td>   New York</td>\n",
       "      <td> United States of America</td>\n",
       "    </tr>\n",
       "    <tr>\n",
       "      <th>3</th>\n",
       "      <td>2012-03-22 17:05:00</td>\n",
       "      <td>  67.240.15.11</td>\n",
       "      <td> https://www.ideatory-store.com/SH51443900/VD21...</td>\n",
       "      <td> KTZML6WD-V8GA-JBW9-UWOS-XW2W0K38Y876</td>\n",
       "      <td>    Queensbury</td>\n",
       "      <td>   New York</td>\n",
       "      <td> United States of America</td>\n",
       "    </tr>\n",
       "    <tr>\n",
       "      <th>4</th>\n",
       "      <td>2012-03-22 01:27:00</td>\n",
       "      <td> 98.234.107.79</td>\n",
       "      <td> https://www.ideatory-store.com/SH51443900/VD05...</td>\n",
       "      <td> 21V1Y4O9-B81P-4WRZ-TGQG-SPUCB9KUM326</td>\n",
       "      <td>     Sunnyvale</td>\n",
       "      <td> California</td>\n",
       "      <td> United States of America</td>\n",
       "    </tr>\n",
       "  </tbody>\n",
       "</table>\n",
       "</div>"
      ],
      "text/plain": [
       "            Timestamp     IP Address  \\\n",
       "0 2012-03-22 01:17:00  99.122.210.17   \n",
       "1 2012-03-22 01:34:00   69.76.12.236   \n",
       "2 2012-03-22 17:23:00   67.240.15.11   \n",
       "3 2012-03-22 17:05:00   67.240.15.11   \n",
       "4 2012-03-22 01:27:00  98.234.107.79   \n",
       "\n",
       "                                                 URL  \\\n",
       "0  https://www.ideatory-store.com/SH51443900/VD61...   \n",
       "1  https://www.ideatory-store.com/SH51443900/VD30...   \n",
       "2  https://www.ideatory-store.com/SH51443900/VD96...   \n",
       "3  https://www.ideatory-store.com/SH51443900/VD21...   \n",
       "4  https://www.ideatory-store.com/SH51443900/VD05...   \n",
       "\n",
       "                                User ID           City Region/State  \\\n",
       "0  6YBY0MC9-IMGB-F69S-8BLX-2NHAMVT8D0F3      Homestead      Florida   \n",
       "1  4MPY5H71-14AO-Z591-YCKB-K4288KV6V8WH  Coeur D Alene        Idaho   \n",
       "2  KTZML6WD-V8GA-JBW9-UWOS-XW2W0K38Y876     Queensbury     New York   \n",
       "3  KTZML6WD-V8GA-JBW9-UWOS-XW2W0K38Y876     Queensbury     New York   \n",
       "4  21V1Y4O9-B81P-4WRZ-TGQG-SPUCB9KUM326      Sunnyvale   California   \n",
       "\n",
       "                    Country  \n",
       "0  United States of America  \n",
       "1  United States of America  \n",
       "2  United States of America  \n",
       "3  United States of America  \n",
       "4  United States of America  "
      ]
     },
     "execution_count": 5,
     "metadata": {},
     "output_type": "execute_result"
    }
   ],
   "source": [
    "click_stream_data.head()"
   ]
  },
  {
   "cell_type": "code",
   "execution_count": 6,
   "metadata": {
    "collapsed": true
   },
   "outputs": [],
   "source": [
    "# headers of product category data\n",
    "columns = ['URL', 'Category']"
   ]
  },
  {
   "cell_type": "code",
   "execution_count": 7,
   "metadata": {
    "collapsed": false
   },
   "outputs": [],
   "source": [
    "# load product data\n",
    "product_data = pd.read_csv('./data/ProductCategoryData.txt', sep='\\t', usecols=columns)"
   ]
  },
  {
   "cell_type": "code",
   "execution_count": 8,
   "metadata": {
    "collapsed": false
   },
   "outputs": [
    {
     "data": {
      "text/html": [
       "<div style=\"max-height:1000px;max-width:1500px;overflow:auto;\">\n",
       "<table border=\"1\" class=\"dataframe\">\n",
       "  <thead>\n",
       "    <tr style=\"text-align: right;\">\n",
       "      <th></th>\n",
       "      <th>URL</th>\n",
       "      <th>Category</th>\n",
       "    </tr>\n",
       "  </thead>\n",
       "  <tbody>\n",
       "    <tr>\n",
       "      <th>0</th>\n",
       "      <td>                   https://www.ideatory-store.com/</td>\n",
       "      <td>       books</td>\n",
       "    </tr>\n",
       "    <tr>\n",
       "      <th>1</th>\n",
       "      <td> https://www.ideatory-store.com/SH51443900/VD21...</td>\n",
       "      <td>      movies</td>\n",
       "    </tr>\n",
       "    <tr>\n",
       "      <th>2</th>\n",
       "      <td> https://www.ideatory-store.com/SH51443900/VD66...</td>\n",
       "      <td>       games</td>\n",
       "    </tr>\n",
       "    <tr>\n",
       "      <th>3</th>\n",
       "      <td> https://www.ideatory-store.com/SH51443900/VD90...</td>\n",
       "      <td> electronics</td>\n",
       "    </tr>\n",
       "    <tr>\n",
       "      <th>4</th>\n",
       "      <td> https://www.ideatory-store.com/SH51443900/VD96...</td>\n",
       "      <td>   computers</td>\n",
       "    </tr>\n",
       "  </tbody>\n",
       "</table>\n",
       "</div>"
      ],
      "text/plain": [
       "                                                 URL     Category\n",
       "0                    https://www.ideatory-store.com/        books\n",
       "1  https://www.ideatory-store.com/SH51443900/VD21...       movies\n",
       "2  https://www.ideatory-store.com/SH51443900/VD66...        games\n",
       "3  https://www.ideatory-store.com/SH51443900/VD90...  electronics\n",
       "4  https://www.ideatory-store.com/SH51443900/VD96...    computers"
      ]
     },
     "execution_count": 8,
     "metadata": {},
     "output_type": "execute_result"
    }
   ],
   "source": [
    "product_data.head()"
   ]
  },
  {
   "cell_type": "code",
   "execution_count": 9,
   "metadata": {
    "collapsed": true
   },
   "outputs": [],
   "source": [
    "# headers of user data\n",
    "columns = ['User ID', 'Number of friends', 'College Education']"
   ]
  },
  {
   "cell_type": "code",
   "execution_count": 10,
   "metadata": {
    "collapsed": true
   },
   "outputs": [],
   "source": [
    "# load user data\n",
    "user_data = pd.read_csv('./data/UserProfileData.txt', sep='\\t', usecols=columns)"
   ]
  },
  {
   "cell_type": "code",
   "execution_count": 11,
   "metadata": {
    "collapsed": false
   },
   "outputs": [
    {
     "data": {
      "text/html": [
       "<div style=\"max-height:1000px;max-width:1500px;overflow:auto;\">\n",
       "<table border=\"1\" class=\"dataframe\">\n",
       "  <thead>\n",
       "    <tr style=\"text-align: right;\">\n",
       "      <th></th>\n",
       "      <th>User ID</th>\n",
       "      <th>Number of friends</th>\n",
       "      <th>College Education</th>\n",
       "    </tr>\n",
       "  </thead>\n",
       "  <tbody>\n",
       "    <tr>\n",
       "      <th>0</th>\n",
       "      <td> 72Y0WQ31-XQKU-4LTM-40ZX-PX37G6IK7S59</td>\n",
       "      <td> 113</td>\n",
       "      <td>  No</td>\n",
       "    </tr>\n",
       "    <tr>\n",
       "      <th>1</th>\n",
       "      <td> 5GGQCY44-OK2D-XGS4-GJOY-U4RXBVXF7J3M</td>\n",
       "      <td>  99</td>\n",
       "      <td>  No</td>\n",
       "    </tr>\n",
       "    <tr>\n",
       "      <th>2</th>\n",
       "      <td> 0SIFQG2V-TWFE-0RE7-8DL5-KYR2N4UMTYMY</td>\n",
       "      <td>   0</td>\n",
       "      <td>  No</td>\n",
       "    </tr>\n",
       "    <tr>\n",
       "      <th>3</th>\n",
       "      <td> WSCKFU9U-VQQM-99VL-ZZBS-2EGJ8RR9J55K</td>\n",
       "      <td>   0</td>\n",
       "      <td> Yes</td>\n",
       "    </tr>\n",
       "    <tr>\n",
       "      <th>4</th>\n",
       "      <td> ZYV7RIS4-1G7X-ZCHF-ISUE-BF00R8NB8JHM</td>\n",
       "      <td> 113</td>\n",
       "      <td> Yes</td>\n",
       "    </tr>\n",
       "  </tbody>\n",
       "</table>\n",
       "</div>"
      ],
      "text/plain": [
       "                                User ID  Number of friends College Education\n",
       "0  72Y0WQ31-XQKU-4LTM-40ZX-PX37G6IK7S59                113                No\n",
       "1  5GGQCY44-OK2D-XGS4-GJOY-U4RXBVXF7J3M                 99                No\n",
       "2  0SIFQG2V-TWFE-0RE7-8DL5-KYR2N4UMTYMY                  0                No\n",
       "3  WSCKFU9U-VQQM-99VL-ZZBS-2EGJ8RR9J55K                  0               Yes\n",
       "4  ZYV7RIS4-1G7X-ZCHF-ISUE-BF00R8NB8JHM                113               Yes"
      ]
     },
     "execution_count": 11,
     "metadata": {},
     "output_type": "execute_result"
    }
   ],
   "source": [
    "user_data.head()"
   ]
  },
  {
   "cell_type": "code",
   "execution_count": 12,
   "metadata": {
    "collapsed": true
   },
   "outputs": [],
   "source": [
    "# process column names\n",
    "\n",
    "def preprocess_column_names(col_name):\n",
    "    col_name = col_name.lower()\n",
    "    col_name = re.sub(r'[^a-z]', '', col_name)\n",
    "    \n",
    "    return col_name"
   ]
  },
  {
   "cell_type": "code",
   "execution_count": 13,
   "metadata": {
    "collapsed": false
   },
   "outputs": [],
   "source": [
    "click_stream_data.columns = click_stream_data.columns.map(preprocess_column_names)\n",
    "user_data.columns = user_data.columns.map(preprocess_column_names)\n",
    "product_data.columns = product_data.columns.map(preprocess_column_names)"
   ]
  },
  {
   "cell_type": "markdown",
   "metadata": {},
   "source": [
    "## Exploratory Data Analysis"
   ]
  },
  {
   "cell_type": "code",
   "execution_count": 16,
   "metadata": {
    "collapsed": false
   },
   "outputs": [
    {
     "data": {
      "text/plain": [
       "Index([u'timestamp', u'ipaddress', u'url', u'userid', u'city', u'regionstate', u'country'], dtype='object')"
      ]
     },
     "execution_count": 16,
     "metadata": {},
     "output_type": "execute_result"
    }
   ],
   "source": [
    "click_stream_data.columns"
   ]
  },
  {
   "cell_type": "code",
   "execution_count": 15,
   "metadata": {
    "collapsed": false
   },
   "outputs": [
    {
     "data": {
      "text/plain": [
       "array(['United States of America', 'Australia', 'Puerto Rico', 'Portugal',\n",
       "       'Canada', 'Germany', 'South Africa', 'Japan', 'Philippines',\n",
       "       'Colombia', 'Thailand', 'Italy', 'Northern Mariana Islands',\n",
       "       'France', 'Switzerland', 'Jamaica', 'Czech Republic', 'Spain',\n",
       "       'Guam', 'United Kingdom', 'Virgin Islands'], dtype=object)"
      ]
     },
     "execution_count": 15,
     "metadata": {},
     "output_type": "execute_result"
    }
   ],
   "source": [
    "# Unique countries in the dataset\n",
    "click_stream_data.country.unique()"
   ]
  },
  {
   "cell_type": "code",
   "execution_count": 18,
   "metadata": {
    "collapsed": true
   },
   "outputs": [],
   "source": [
    "# merge user and items data\n",
    "user_merged = pd.merge(click_stream_data, user_data, on='userid')"
   ]
  },
  {
   "cell_type": "code",
   "execution_count": 21,
   "metadata": {
    "collapsed": false
   },
   "outputs": [],
   "source": [
    "merged_data = pd.merge(user_merged, product_data, on='url')"
   ]
  },
  {
   "cell_type": "code",
   "execution_count": 136,
   "metadata": {
    "collapsed": false,
    "scrolled": false
   },
   "outputs": [
    {
     "data": {
      "text/html": [
       "<div style=\"max-height:1000px;max-width:1500px;overflow:auto;\">\n",
       "<table border=\"1\" class=\"dataframe\">\n",
       "  <thead>\n",
       "    <tr style=\"text-align: right;\">\n",
       "      <th></th>\n",
       "      <th>timestamp</th>\n",
       "      <th>ipaddress</th>\n",
       "      <th>url</th>\n",
       "      <th>userid</th>\n",
       "      <th>city</th>\n",
       "      <th>regionstate</th>\n",
       "      <th>country</th>\n",
       "      <th>numberoffriends</th>\n",
       "      <th>collegeeducation</th>\n",
       "      <th>category</th>\n",
       "    </tr>\n",
       "  </thead>\n",
       "  <tbody>\n",
       "    <tr>\n",
       "      <th>332643</th>\n",
       "      <td>2012-03-14 12:05:00</td>\n",
       "      <td>   208.49.58.49</td>\n",
       "      <td> https://www.ideatory-store.com/SH28141648/VD75...</td>\n",
       "      <td> QZLFY9PU-4DEQ-SSK0-5Y0N-TG4CE254YHYN</td>\n",
       "      <td>        Oshkosh</td>\n",
       "      <td>     Wisconsin</td>\n",
       "      <td> United States of America</td>\n",
       "      <td> 116</td>\n",
       "      <td>      No</td>\n",
       "      <td>    clothing</td>\n",
       "    </tr>\n",
       "    <tr>\n",
       "      <th>332644</th>\n",
       "      <td>2012-03-14 17:15:00</td>\n",
       "      <td> 65.175.186.158</td>\n",
       "      <td> https://www.ideatory-store.com/SH28141648/VD75...</td>\n",
       "      <td> WR2C67KU-P02X-AD77-LVM1-QS2GXPF3N0NS</td>\n",
       "      <td>        Belmont</td>\n",
       "      <td> New Hampshire</td>\n",
       "      <td> United States of America</td>\n",
       "      <td>  94</td>\n",
       "      <td>     Yes</td>\n",
       "      <td>    clothing</td>\n",
       "    </tr>\n",
       "    <tr>\n",
       "      <th>332645</th>\n",
       "      <td>2012-03-22 18:47:00</td>\n",
       "      <td>  98.177.234.23</td>\n",
       "      <td> https://www.ideatory-store.com/SH29978718/VD61...</td>\n",
       "      <td> KUIFHRB5-HWA9-VTLO-5D8X-URVGLRYX0FD6</td>\n",
       "      <td>         Peoria</td>\n",
       "      <td>       Arizona</td>\n",
       "      <td> United States of America</td>\n",
       "      <td> 118</td>\n",
       "      <td>     Yes</td>\n",
       "      <td> accessories</td>\n",
       "    </tr>\n",
       "    <tr>\n",
       "      <th>332646</th>\n",
       "      <td>2012-03-19 09:54:00</td>\n",
       "      <td> 68.110.254.251</td>\n",
       "      <td> https://www.ideatory-store.com/SH94844021/VD72...</td>\n",
       "      <td> NOB60U2Q-W73H-H0GC-TGGP-M1RX64QHJEJJ</td>\n",
       "      <td> Fredericksburg</td>\n",
       "      <td>      Virginia</td>\n",
       "      <td> United States of America</td>\n",
       "      <td>  98</td>\n",
       "      <td> Unknown</td>\n",
       "      <td>       shoes</td>\n",
       "    </tr>\n",
       "    <tr>\n",
       "      <th>332647</th>\n",
       "      <td>2012-03-14 21:27:00</td>\n",
       "      <td> 66.112.117.192</td>\n",
       "      <td> https://www.ideatory-store.com/SH87807518/VD50...</td>\n",
       "      <td> 4N86W13O-FQVO-NPKG-S7S9-HU8OWCPZP3Q6</td>\n",
       "      <td>     Redgranite</td>\n",
       "      <td>     Wisconsin</td>\n",
       "      <td> United States of America</td>\n",
       "      <td> 149</td>\n",
       "      <td> Unknown</td>\n",
       "      <td>    clothing</td>\n",
       "    </tr>\n",
       "    <tr>\n",
       "      <th>332648</th>\n",
       "      <td>2012-03-14 21:12:00</td>\n",
       "      <td> 66.112.117.192</td>\n",
       "      <td> https://www.ideatory-store.com/SH87807518/VD50...</td>\n",
       "      <td> 4N86W13O-FQVO-NPKG-S7S9-HU8OWCPZP3Q6</td>\n",
       "      <td>     Redgranite</td>\n",
       "      <td>     Wisconsin</td>\n",
       "      <td> United States of America</td>\n",
       "      <td> 149</td>\n",
       "      <td> Unknown</td>\n",
       "      <td>    clothing</td>\n",
       "    </tr>\n",
       "    <tr>\n",
       "      <th>332649</th>\n",
       "      <td>2012-03-14 21:21:00</td>\n",
       "      <td> 66.112.117.192</td>\n",
       "      <td> https://www.ideatory-store.com/SH87807518/VD50...</td>\n",
       "      <td> 4N86W13O-FQVO-NPKG-S7S9-HU8OWCPZP3Q6</td>\n",
       "      <td>     Redgranite</td>\n",
       "      <td>     Wisconsin</td>\n",
       "      <td> United States of America</td>\n",
       "      <td> 149</td>\n",
       "      <td> Unknown</td>\n",
       "      <td>    clothing</td>\n",
       "    </tr>\n",
       "    <tr>\n",
       "      <th>332650</th>\n",
       "      <td>2012-03-14 21:20:00</td>\n",
       "      <td> 66.112.117.192</td>\n",
       "      <td> https://www.ideatory-store.com/SH87807518/VD50...</td>\n",
       "      <td> 4N86W13O-FQVO-NPKG-S7S9-HU8OWCPZP3Q6</td>\n",
       "      <td>     Redgranite</td>\n",
       "      <td>     Wisconsin</td>\n",
       "      <td> United States of America</td>\n",
       "      <td> 149</td>\n",
       "      <td> Unknown</td>\n",
       "      <td>    clothing</td>\n",
       "    </tr>\n",
       "    <tr>\n",
       "      <th>332651</th>\n",
       "      <td>2012-03-14 21:25:00</td>\n",
       "      <td> 66.112.117.192</td>\n",
       "      <td> https://www.ideatory-store.com/SH87807518/VD50...</td>\n",
       "      <td> 4N86W13O-FQVO-NPKG-S7S9-HU8OWCPZP3Q6</td>\n",
       "      <td>     Redgranite</td>\n",
       "      <td>     Wisconsin</td>\n",
       "      <td> United States of America</td>\n",
       "      <td> 149</td>\n",
       "      <td> Unknown</td>\n",
       "      <td>    clothing</td>\n",
       "    </tr>\n",
       "    <tr>\n",
       "      <th>332652</th>\n",
       "      <td>2012-03-14 21:32:00</td>\n",
       "      <td> 66.112.117.192</td>\n",
       "      <td> https://www.ideatory-store.com/SH87807518/VD50...</td>\n",
       "      <td> 4N86W13O-FQVO-NPKG-S7S9-HU8OWCPZP3Q6</td>\n",
       "      <td>     Redgranite</td>\n",
       "      <td>     Wisconsin</td>\n",
       "      <td> United States of America</td>\n",
       "      <td> 149</td>\n",
       "      <td> Unknown</td>\n",
       "      <td>    clothing</td>\n",
       "    </tr>\n",
       "  </tbody>\n",
       "</table>\n",
       "</div>"
      ],
      "text/plain": [
       "                 timestamp       ipaddress  \\\n",
       "332643 2012-03-14 12:05:00    208.49.58.49   \n",
       "332644 2012-03-14 17:15:00  65.175.186.158   \n",
       "332645 2012-03-22 18:47:00   98.177.234.23   \n",
       "332646 2012-03-19 09:54:00  68.110.254.251   \n",
       "332647 2012-03-14 21:27:00  66.112.117.192   \n",
       "332648 2012-03-14 21:12:00  66.112.117.192   \n",
       "332649 2012-03-14 21:21:00  66.112.117.192   \n",
       "332650 2012-03-14 21:20:00  66.112.117.192   \n",
       "332651 2012-03-14 21:25:00  66.112.117.192   \n",
       "332652 2012-03-14 21:32:00  66.112.117.192   \n",
       "\n",
       "                                                      url  \\\n",
       "332643  https://www.ideatory-store.com/SH28141648/VD75...   \n",
       "332644  https://www.ideatory-store.com/SH28141648/VD75...   \n",
       "332645  https://www.ideatory-store.com/SH29978718/VD61...   \n",
       "332646  https://www.ideatory-store.com/SH94844021/VD72...   \n",
       "332647  https://www.ideatory-store.com/SH87807518/VD50...   \n",
       "332648  https://www.ideatory-store.com/SH87807518/VD50...   \n",
       "332649  https://www.ideatory-store.com/SH87807518/VD50...   \n",
       "332650  https://www.ideatory-store.com/SH87807518/VD50...   \n",
       "332651  https://www.ideatory-store.com/SH87807518/VD50...   \n",
       "332652  https://www.ideatory-store.com/SH87807518/VD50...   \n",
       "\n",
       "                                      userid            city    regionstate  \\\n",
       "332643  QZLFY9PU-4DEQ-SSK0-5Y0N-TG4CE254YHYN         Oshkosh      Wisconsin   \n",
       "332644  WR2C67KU-P02X-AD77-LVM1-QS2GXPF3N0NS         Belmont  New Hampshire   \n",
       "332645  KUIFHRB5-HWA9-VTLO-5D8X-URVGLRYX0FD6          Peoria        Arizona   \n",
       "332646  NOB60U2Q-W73H-H0GC-TGGP-M1RX64QHJEJJ  Fredericksburg       Virginia   \n",
       "332647  4N86W13O-FQVO-NPKG-S7S9-HU8OWCPZP3Q6      Redgranite      Wisconsin   \n",
       "332648  4N86W13O-FQVO-NPKG-S7S9-HU8OWCPZP3Q6      Redgranite      Wisconsin   \n",
       "332649  4N86W13O-FQVO-NPKG-S7S9-HU8OWCPZP3Q6      Redgranite      Wisconsin   \n",
       "332650  4N86W13O-FQVO-NPKG-S7S9-HU8OWCPZP3Q6      Redgranite      Wisconsin   \n",
       "332651  4N86W13O-FQVO-NPKG-S7S9-HU8OWCPZP3Q6      Redgranite      Wisconsin   \n",
       "332652  4N86W13O-FQVO-NPKG-S7S9-HU8OWCPZP3Q6      Redgranite      Wisconsin   \n",
       "\n",
       "                         country  numberoffriends collegeeducation  \\\n",
       "332643  United States of America              116               No   \n",
       "332644  United States of America               94              Yes   \n",
       "332645  United States of America              118              Yes   \n",
       "332646  United States of America               98          Unknown   \n",
       "332647  United States of America              149          Unknown   \n",
       "332648  United States of America              149          Unknown   \n",
       "332649  United States of America              149          Unknown   \n",
       "332650  United States of America              149          Unknown   \n",
       "332651  United States of America              149          Unknown   \n",
       "332652  United States of America              149          Unknown   \n",
       "\n",
       "           category  \n",
       "332643     clothing  \n",
       "332644     clothing  \n",
       "332645  accessories  \n",
       "332646        shoes  \n",
       "332647     clothing  \n",
       "332648     clothing  \n",
       "332649     clothing  \n",
       "332650     clothing  \n",
       "332651     clothing  \n",
       "332652     clothing  "
      ]
     },
     "execution_count": 136,
     "metadata": {},
     "output_type": "execute_result"
    }
   ],
   "source": [
    "merged_data.tail(10)"
   ]
  },
  {
   "cell_type": "code",
   "execution_count": 38,
   "metadata": {
    "collapsed": true
   },
   "outputs": [],
   "source": [
    "# group this data by userid\n",
    "grouped_by_user_and_cat = merged_data.groupby(['userid', 'category'])"
   ]
  },
  {
   "cell_type": "code",
   "execution_count": 39,
   "metadata": {
    "collapsed": false
   },
   "outputs": [],
   "source": [
    "transaction_data = grouped_by_user_and_cat.size().unstack(1).fillna(0)"
   ]
  },
  {
   "cell_type": "code",
   "execution_count": 46,
   "metadata": {
    "collapsed": false
   },
   "outputs": [
    {
     "data": {
      "text/html": [
       "<div style=\"max-height:1000px;max-width:1500px;overflow:auto;\">\n",
       "<table border=\"1\" class=\"dataframe\">\n",
       "  <thead>\n",
       "    <tr style=\"text-align: right;\">\n",
       "      <th>category</th>\n",
       "      <th>accessories</th>\n",
       "      <th>automotive</th>\n",
       "      <th>books</th>\n",
       "      <th>clothing</th>\n",
       "      <th>computers</th>\n",
       "      <th>electronics</th>\n",
       "      <th>games</th>\n",
       "      <th>handbags</th>\n",
       "      <th>home&amp;garden</th>\n",
       "      <th>movies</th>\n",
       "      <th>outdoors</th>\n",
       "      <th>shoes</th>\n",
       "      <th>tools</th>\n",
       "    </tr>\n",
       "    <tr>\n",
       "      <th>userid</th>\n",
       "      <th></th>\n",
       "      <th></th>\n",
       "      <th></th>\n",
       "      <th></th>\n",
       "      <th></th>\n",
       "      <th></th>\n",
       "      <th></th>\n",
       "      <th></th>\n",
       "      <th></th>\n",
       "      <th></th>\n",
       "      <th></th>\n",
       "      <th></th>\n",
       "      <th></th>\n",
       "    </tr>\n",
       "  </thead>\n",
       "  <tbody>\n",
       "    <tr>\n",
       "      <th>0011GRB2-5JJ3-KJUO-RMCP-0TBHC08UAXLX</th>\n",
       "      <td> 0</td>\n",
       "      <td> 0</td>\n",
       "      <td> 0</td>\n",
       "      <td> 27</td>\n",
       "      <td> 0</td>\n",
       "      <td> 0</td>\n",
       "      <td> 0</td>\n",
       "      <td>  0</td>\n",
       "      <td> 0</td>\n",
       "      <td> 0</td>\n",
       "      <td> 0</td>\n",
       "      <td>  0</td>\n",
       "      <td> 0</td>\n",
       "    </tr>\n",
       "    <tr>\n",
       "      <th>002Y4OT6-5QCS-48PD-CDLK-0TSRUM620CLY</th>\n",
       "      <td> 0</td>\n",
       "      <td> 0</td>\n",
       "      <td> 0</td>\n",
       "      <td> 13</td>\n",
       "      <td> 0</td>\n",
       "      <td> 0</td>\n",
       "      <td> 0</td>\n",
       "      <td>  0</td>\n",
       "      <td> 0</td>\n",
       "      <td> 0</td>\n",
       "      <td> 0</td>\n",
       "      <td>  0</td>\n",
       "      <td> 0</td>\n",
       "    </tr>\n",
       "    <tr>\n",
       "      <th>005O4L5Z-JUEX-BAPR-62BV-WGYFGA88C2TK</th>\n",
       "      <td> 0</td>\n",
       "      <td> 0</td>\n",
       "      <td> 0</td>\n",
       "      <td>  0</td>\n",
       "      <td> 0</td>\n",
       "      <td> 0</td>\n",
       "      <td> 0</td>\n",
       "      <td> 24</td>\n",
       "      <td> 0</td>\n",
       "      <td> 0</td>\n",
       "      <td> 0</td>\n",
       "      <td> 35</td>\n",
       "      <td> 0</td>\n",
       "    </tr>\n",
       "    <tr>\n",
       "      <th>0068W263-8Q86-BZER-U4K7-H07PX1BPFQ71</th>\n",
       "      <td> 0</td>\n",
       "      <td> 0</td>\n",
       "      <td> 0</td>\n",
       "      <td>  0</td>\n",
       "      <td> 0</td>\n",
       "      <td> 0</td>\n",
       "      <td> 0</td>\n",
       "      <td>  0</td>\n",
       "      <td> 0</td>\n",
       "      <td> 0</td>\n",
       "      <td> 0</td>\n",
       "      <td> 15</td>\n",
       "      <td> 0</td>\n",
       "    </tr>\n",
       "    <tr>\n",
       "      <th>006EGSY4-FKS5-MT33-7TCF-RNHZL3EPJOXH</th>\n",
       "      <td> 0</td>\n",
       "      <td> 0</td>\n",
       "      <td> 0</td>\n",
       "      <td> 20</td>\n",
       "      <td> 0</td>\n",
       "      <td> 0</td>\n",
       "      <td> 0</td>\n",
       "      <td>  0</td>\n",
       "      <td> 0</td>\n",
       "      <td> 0</td>\n",
       "      <td> 0</td>\n",
       "      <td>  0</td>\n",
       "      <td> 0</td>\n",
       "    </tr>\n",
       "  </tbody>\n",
       "</table>\n",
       "</div>"
      ],
      "text/plain": [
       "category                              accessories  automotive  books  \\\n",
       "userid                                                                 \n",
       "0011GRB2-5JJ3-KJUO-RMCP-0TBHC08UAXLX            0           0      0   \n",
       "002Y4OT6-5QCS-48PD-CDLK-0TSRUM620CLY            0           0      0   \n",
       "005O4L5Z-JUEX-BAPR-62BV-WGYFGA88C2TK            0           0      0   \n",
       "0068W263-8Q86-BZER-U4K7-H07PX1BPFQ71            0           0      0   \n",
       "006EGSY4-FKS5-MT33-7TCF-RNHZL3EPJOXH            0           0      0   \n",
       "\n",
       "category                              clothing  computers  electronics  games  \\\n",
       "userid                                                                          \n",
       "0011GRB2-5JJ3-KJUO-RMCP-0TBHC08UAXLX        27          0            0      0   \n",
       "002Y4OT6-5QCS-48PD-CDLK-0TSRUM620CLY        13          0            0      0   \n",
       "005O4L5Z-JUEX-BAPR-62BV-WGYFGA88C2TK         0          0            0      0   \n",
       "0068W263-8Q86-BZER-U4K7-H07PX1BPFQ71         0          0            0      0   \n",
       "006EGSY4-FKS5-MT33-7TCF-RNHZL3EPJOXH        20          0            0      0   \n",
       "\n",
       "category                              handbags  home&garden  movies  outdoors  \\\n",
       "userid                                                                          \n",
       "0011GRB2-5JJ3-KJUO-RMCP-0TBHC08UAXLX         0            0       0         0   \n",
       "002Y4OT6-5QCS-48PD-CDLK-0TSRUM620CLY         0            0       0         0   \n",
       "005O4L5Z-JUEX-BAPR-62BV-WGYFGA88C2TK        24            0       0         0   \n",
       "0068W263-8Q86-BZER-U4K7-H07PX1BPFQ71         0            0       0         0   \n",
       "006EGSY4-FKS5-MT33-7TCF-RNHZL3EPJOXH         0            0       0         0   \n",
       "\n",
       "category                              shoes  tools  \n",
       "userid                                              \n",
       "0011GRB2-5JJ3-KJUO-RMCP-0TBHC08UAXLX      0      0  \n",
       "002Y4OT6-5QCS-48PD-CDLK-0TSRUM620CLY      0      0  \n",
       "005O4L5Z-JUEX-BAPR-62BV-WGYFGA88C2TK     35      0  \n",
       "0068W263-8Q86-BZER-U4K7-H07PX1BPFQ71     15      0  \n",
       "006EGSY4-FKS5-MT33-7TCF-RNHZL3EPJOXH      0      0  "
      ]
     },
     "execution_count": 46,
     "metadata": {},
     "output_type": "execute_result"
    }
   ],
   "source": [
    "transaction_data.head()"
   ]
  },
  {
   "cell_type": "code",
   "execution_count": 45,
   "metadata": {
    "collapsed": false
   },
   "outputs": [
    {
     "data": {
      "text/plain": [
       "category\n",
       "clothing       145623\n",
       "shoes          107990\n",
       "handbags        31880\n",
       "home&garden     17987\n",
       "computers       10204\n",
       "movies           9007\n",
       "electronics      7067\n",
       "games            2146\n",
       "tools             425\n",
       "outdoors          278\n",
       "automotive         32\n",
       "books              13\n",
       "accessories         1\n",
       "dtype: float64"
      ]
     },
     "execution_count": 45,
     "metadata": {},
     "output_type": "execute_result"
    }
   ],
   "source": [
    "# top most searched categories across all users.\n",
    "transaction_data.sum(axis=0).order(ascending=False)"
   ]
  },
  {
   "cell_type": "code",
   "execution_count": 47,
   "metadata": {
    "collapsed": true
   },
   "outputs": [],
   "source": [
    "# now lets see what products from different categories did a user buy \n",
    "# during a single session ( consider a day's activity as a single session ).\n",
    "\n",
    "usage_data = merged_data.copy()\n",
    "usage_data['date_purchased'] = usage_data.timestamp.map(lambda x: x.strftime('%Y-%m-%d'))"
   ]
  },
  {
   "cell_type": "code",
   "execution_count": 51,
   "metadata": {
    "collapsed": false
   },
   "outputs": [],
   "source": [
    "session_data = usage_data.groupby(['userid', 'date_purchased', 'category'])"
   ]
  },
  {
   "cell_type": "code",
   "execution_count": 54,
   "metadata": {
    "collapsed": false
   },
   "outputs": [],
   "source": [
    "session_db = session_data.size().unstack(2).fillna(0)"
   ]
  },
  {
   "cell_type": "code",
   "execution_count": 150,
   "metadata": {
    "collapsed": false
   },
   "outputs": [],
   "source": [
    "session_db.columns = session_db.columns.map(preprocess_column_names)"
   ]
  },
  {
   "cell_type": "code",
   "execution_count": 151,
   "metadata": {
    "collapsed": false
   },
   "outputs": [
    {
     "data": {
      "text/html": [
       "<div style=\"max-height:1000px;max-width:1500px;overflow:auto;\">\n",
       "<table border=\"1\" class=\"dataframe\">\n",
       "  <thead>\n",
       "    <tr style=\"text-align: right;\">\n",
       "      <th></th>\n",
       "      <th></th>\n",
       "      <th>accessories</th>\n",
       "      <th>automotive</th>\n",
       "      <th>books</th>\n",
       "      <th>clothing</th>\n",
       "      <th>computers</th>\n",
       "      <th>electronics</th>\n",
       "      <th>games</th>\n",
       "      <th>handbags</th>\n",
       "      <th>homegarden</th>\n",
       "      <th>movies</th>\n",
       "      <th>outdoors</th>\n",
       "      <th>shoes</th>\n",
       "      <th>tools</th>\n",
       "    </tr>\n",
       "    <tr>\n",
       "      <th>userid</th>\n",
       "      <th>date_purchased</th>\n",
       "      <th></th>\n",
       "      <th></th>\n",
       "      <th></th>\n",
       "      <th></th>\n",
       "      <th></th>\n",
       "      <th></th>\n",
       "      <th></th>\n",
       "      <th></th>\n",
       "      <th></th>\n",
       "      <th></th>\n",
       "      <th></th>\n",
       "      <th></th>\n",
       "      <th></th>\n",
       "    </tr>\n",
       "  </thead>\n",
       "  <tbody>\n",
       "    <tr>\n",
       "      <th>0011GRB2-5JJ3-KJUO-RMCP-0TBHC08UAXLX</th>\n",
       "      <th>2012-12-03</th>\n",
       "      <td> 0</td>\n",
       "      <td> 0</td>\n",
       "      <td> 0</td>\n",
       "      <td> 27</td>\n",
       "      <td> 0</td>\n",
       "      <td> 0</td>\n",
       "      <td> 0</td>\n",
       "      <td>  0</td>\n",
       "      <td> 0</td>\n",
       "      <td> 0</td>\n",
       "      <td> 0</td>\n",
       "      <td>  0</td>\n",
       "      <td> 0</td>\n",
       "    </tr>\n",
       "    <tr>\n",
       "      <th>002Y4OT6-5QCS-48PD-CDLK-0TSRUM620CLY</th>\n",
       "      <th>2012-03-13</th>\n",
       "      <td> 0</td>\n",
       "      <td> 0</td>\n",
       "      <td> 0</td>\n",
       "      <td> 13</td>\n",
       "      <td> 0</td>\n",
       "      <td> 0</td>\n",
       "      <td> 0</td>\n",
       "      <td>  0</td>\n",
       "      <td> 0</td>\n",
       "      <td> 0</td>\n",
       "      <td> 0</td>\n",
       "      <td>  0</td>\n",
       "      <td> 0</td>\n",
       "    </tr>\n",
       "    <tr>\n",
       "      <th>005O4L5Z-JUEX-BAPR-62BV-WGYFGA88C2TK</th>\n",
       "      <th>2012-03-19</th>\n",
       "      <td> 0</td>\n",
       "      <td> 0</td>\n",
       "      <td> 0</td>\n",
       "      <td>  0</td>\n",
       "      <td> 0</td>\n",
       "      <td> 0</td>\n",
       "      <td> 0</td>\n",
       "      <td> 24</td>\n",
       "      <td> 0</td>\n",
       "      <td> 0</td>\n",
       "      <td> 0</td>\n",
       "      <td> 35</td>\n",
       "      <td> 0</td>\n",
       "    </tr>\n",
       "    <tr>\n",
       "      <th>0068W263-8Q86-BZER-U4K7-H07PX1BPFQ71</th>\n",
       "      <th>2012-03-19</th>\n",
       "      <td> 0</td>\n",
       "      <td> 0</td>\n",
       "      <td> 0</td>\n",
       "      <td>  0</td>\n",
       "      <td> 0</td>\n",
       "      <td> 0</td>\n",
       "      <td> 0</td>\n",
       "      <td>  0</td>\n",
       "      <td> 0</td>\n",
       "      <td> 0</td>\n",
       "      <td> 0</td>\n",
       "      <td> 15</td>\n",
       "      <td> 0</td>\n",
       "    </tr>\n",
       "    <tr>\n",
       "      <th>006EGSY4-FKS5-MT33-7TCF-RNHZL3EPJOXH</th>\n",
       "      <th>2012-03-22</th>\n",
       "      <td> 0</td>\n",
       "      <td> 0</td>\n",
       "      <td> 0</td>\n",
       "      <td> 20</td>\n",
       "      <td> 0</td>\n",
       "      <td> 0</td>\n",
       "      <td> 0</td>\n",
       "      <td>  0</td>\n",
       "      <td> 0</td>\n",
       "      <td> 0</td>\n",
       "      <td> 0</td>\n",
       "      <td>  0</td>\n",
       "      <td> 0</td>\n",
       "    </tr>\n",
       "  </tbody>\n",
       "</table>\n",
       "</div>"
      ],
      "text/plain": [
       "                                                     accessories  automotive  \\\n",
       "userid                               date_purchased                            \n",
       "0011GRB2-5JJ3-KJUO-RMCP-0TBHC08UAXLX 2012-12-03                0           0   \n",
       "002Y4OT6-5QCS-48PD-CDLK-0TSRUM620CLY 2012-03-13                0           0   \n",
       "005O4L5Z-JUEX-BAPR-62BV-WGYFGA88C2TK 2012-03-19                0           0   \n",
       "0068W263-8Q86-BZER-U4K7-H07PX1BPFQ71 2012-03-19                0           0   \n",
       "006EGSY4-FKS5-MT33-7TCF-RNHZL3EPJOXH 2012-03-22                0           0   \n",
       "\n",
       "                                                     books  clothing  \\\n",
       "userid                               date_purchased                    \n",
       "0011GRB2-5JJ3-KJUO-RMCP-0TBHC08UAXLX 2012-12-03          0        27   \n",
       "002Y4OT6-5QCS-48PD-CDLK-0TSRUM620CLY 2012-03-13          0        13   \n",
       "005O4L5Z-JUEX-BAPR-62BV-WGYFGA88C2TK 2012-03-19          0         0   \n",
       "0068W263-8Q86-BZER-U4K7-H07PX1BPFQ71 2012-03-19          0         0   \n",
       "006EGSY4-FKS5-MT33-7TCF-RNHZL3EPJOXH 2012-03-22          0        20   \n",
       "\n",
       "                                                     computers  electronics  \\\n",
       "userid                               date_purchased                           \n",
       "0011GRB2-5JJ3-KJUO-RMCP-0TBHC08UAXLX 2012-12-03              0            0   \n",
       "002Y4OT6-5QCS-48PD-CDLK-0TSRUM620CLY 2012-03-13              0            0   \n",
       "005O4L5Z-JUEX-BAPR-62BV-WGYFGA88C2TK 2012-03-19              0            0   \n",
       "0068W263-8Q86-BZER-U4K7-H07PX1BPFQ71 2012-03-19              0            0   \n",
       "006EGSY4-FKS5-MT33-7TCF-RNHZL3EPJOXH 2012-03-22              0            0   \n",
       "\n",
       "                                                     games  handbags  \\\n",
       "userid                               date_purchased                    \n",
       "0011GRB2-5JJ3-KJUO-RMCP-0TBHC08UAXLX 2012-12-03          0         0   \n",
       "002Y4OT6-5QCS-48PD-CDLK-0TSRUM620CLY 2012-03-13          0         0   \n",
       "005O4L5Z-JUEX-BAPR-62BV-WGYFGA88C2TK 2012-03-19          0        24   \n",
       "0068W263-8Q86-BZER-U4K7-H07PX1BPFQ71 2012-03-19          0         0   \n",
       "006EGSY4-FKS5-MT33-7TCF-RNHZL3EPJOXH 2012-03-22          0         0   \n",
       "\n",
       "                                                     homegarden  movies  \\\n",
       "userid                               date_purchased                       \n",
       "0011GRB2-5JJ3-KJUO-RMCP-0TBHC08UAXLX 2012-12-03               0       0   \n",
       "002Y4OT6-5QCS-48PD-CDLK-0TSRUM620CLY 2012-03-13               0       0   \n",
       "005O4L5Z-JUEX-BAPR-62BV-WGYFGA88C2TK 2012-03-19               0       0   \n",
       "0068W263-8Q86-BZER-U4K7-H07PX1BPFQ71 2012-03-19               0       0   \n",
       "006EGSY4-FKS5-MT33-7TCF-RNHZL3EPJOXH 2012-03-22               0       0   \n",
       "\n",
       "                                                     outdoors  shoes  tools  \n",
       "userid                               date_purchased                          \n",
       "0011GRB2-5JJ3-KJUO-RMCP-0TBHC08UAXLX 2012-12-03             0      0      0  \n",
       "002Y4OT6-5QCS-48PD-CDLK-0TSRUM620CLY 2012-03-13             0      0      0  \n",
       "005O4L5Z-JUEX-BAPR-62BV-WGYFGA88C2TK 2012-03-19             0     35      0  \n",
       "0068W263-8Q86-BZER-U4K7-H07PX1BPFQ71 2012-03-19             0     15      0  \n",
       "006EGSY4-FKS5-MT33-7TCF-RNHZL3EPJOXH 2012-03-22             0      0      0  "
      ]
     },
     "execution_count": 151,
     "metadata": {},
     "output_type": "execute_result"
    }
   ],
   "source": [
    "session_db.head()"
   ]
  },
  {
   "cell_type": "code",
   "execution_count": 152,
   "metadata": {
    "collapsed": false
   },
   "outputs": [],
   "source": [
    "from itertools import combinations\n",
    "\n",
    "candidate_rules = combinations(session_db.columns, 2)"
   ]
  },
  {
   "cell_type": "code",
   "execution_count": 132,
   "metadata": {
    "collapsed": true
   },
   "outputs": [],
   "source": [
    "def support(items, df):\n",
    "    tot_support = 0.0\n",
    "    query_elem = []\n",
    "    \n",
    "    for item in items:\n",
    "        query_str = ''\n",
    "        query_str = str(item) + ' > 0'\n",
    "        query_elem.append(query_str)\n",
    "    \n",
    "    final_query = ' & '.join(query_elem)\n",
    "    contains_item = df.query(final_query)\n",
    "    tot_support = tot_support + (contains_item.shape[0] / np.float(df.shape[0]))\n",
    "    \n",
    "    return tot_support "
   ]
  },
  {
   "cell_type": "code",
   "execution_count": 133,
   "metadata": {
    "collapsed": true
   },
   "outputs": [],
   "source": [
    "def confidence(candidateRule, db):\n",
    "    x, y = candidateRule\n",
    "    rule = [x, y]\n",
    "    antecedant = [x]\n",
    "    \n",
    "    return np.float(support(rule, db) / support(antecedant, db))"
   ]
  },
  {
   "cell_type": "code",
   "execution_count": 153,
   "metadata": {
    "collapsed": false
   },
   "outputs": [
    {
     "name": "stdout",
     "output_type": "stream",
     "text": [
      "accessories -> automotive confidence in this rule 0.000000 \n",
      "accessories -> books confidence in this rule 0.000000 \n",
      "accessories -> clothing confidence in this rule 0.000000 \n",
      "accessories -> computers confidence in this rule 0.000000 \n",
      "accessories -> electronics confidence in this rule 0.000000 \n",
      "accessories -> games confidence in this rule 0.000000 \n",
      "accessories -> handbags confidence in this rule 0.000000 \n",
      "accessories -> homegarden confidence in this rule 0.000000 \n",
      "accessories -> movies confidence in this rule 0.000000 \n",
      "accessories -> outdoors confidence in this rule 0.000000 \n",
      "accessories -> shoes confidence in this rule 1.000000 \n",
      "accessories -> tools confidence in this rule 0.000000 \n",
      "automotive -> books confidence in this rule 0.000000 \n",
      "automotive -> clothing confidence in this rule 0.000000 \n",
      "automotive -> computers confidence in this rule 0.000000 \n",
      "automotive -> electronics confidence in this rule 0.166667 \n",
      "automotive -> games confidence in this rule 0.000000 \n",
      "automotive -> handbags confidence in this rule 0.166667 \n",
      "automotive -> homegarden confidence in this rule 0.166667 \n",
      "automotive -> movies confidence in this rule 0.166667 \n",
      "automotive -> outdoors confidence in this rule 0.000000 \n",
      "automotive -> shoes confidence in this rule 0.166667 \n",
      "automotive -> tools confidence in this rule 0.000000 \n",
      "books -> clothing confidence in this rule 0.307692 \n",
      "books -> computers confidence in this rule 0.076923 \n",
      "books -> electronics confidence in this rule 0.076923 \n",
      "books -> games confidence in this rule 0.000000 \n",
      "books -> handbags confidence in this rule 0.230769 \n",
      "books -> homegarden confidence in this rule 0.153846 \n",
      "books -> movies confidence in this rule 0.076923 \n",
      "books -> outdoors confidence in this rule 0.000000 \n",
      "books -> shoes confidence in this rule 0.307692 \n",
      "books -> tools confidence in this rule 0.000000 \n",
      "clothing -> computers confidence in this rule 0.018742 \n",
      "clothing -> electronics confidence in this rule 0.013603 \n",
      "clothing -> games confidence in this rule 0.000151 \n",
      "clothing -> handbags confidence in this rule 0.087969 \n",
      "clothing -> homegarden confidence in this rule 0.039148 \n",
      "clothing -> movies confidence in this rule 0.012092 \n",
      "clothing -> outdoors confidence in this rule 0.000151 \n",
      "clothing -> shoes confidence in this rule 0.074063 \n",
      "clothing -> tools confidence in this rule 0.001360 \n",
      "computers -> electronics confidence in this rule 0.326316 \n",
      "computers -> games confidence in this rule 0.045614 \n",
      "computers -> handbags confidence in this rule 0.384211 \n",
      "computers -> homegarden confidence in this rule 0.524561 \n",
      "computers -> movies confidence in this rule 0.187719 \n",
      "computers -> outdoors confidence in this rule 0.000000 \n",
      "computers -> shoes confidence in this rule 0.085965 \n",
      "computers -> tools confidence in this rule 0.001754 \n",
      "electronics -> games confidence in this rule 0.126168 \n",
      "electronics -> handbags confidence in this rule 0.264019 \n",
      "electronics -> homegarden confidence in this rule 0.320093 \n",
      "electronics -> movies confidence in this rule 0.275701 \n",
      "electronics -> outdoors confidence in this rule 0.002336 \n",
      "electronics -> shoes confidence in this rule 0.000000 \n",
      "electronics -> tools confidence in this rule 0.000000 \n",
      "games -> handbags confidence in this rule 0.289720 \n",
      "games -> homegarden confidence in this rule 0.177570 \n",
      "games -> movies confidence in this rule 0.355140 \n",
      "games -> outdoors confidence in this rule 0.000000 \n",
      "games -> shoes confidence in this rule 0.000000 \n",
      "games -> tools confidence in this rule 0.000000 \n",
      "handbags -> homegarden confidence in this rule 0.233836 \n",
      "handbags -> movies confidence in this rule 0.030141 \n",
      "handbags -> outdoors confidence in this rule 0.000486 \n",
      "handbags -> shoes confidence in this rule 0.066116 \n",
      "handbags -> tools confidence in this rule 0.002431 \n",
      "homegarden -> movies confidence in this rule 0.076063 \n",
      "homegarden -> outdoors confidence in this rule 0.000000 \n",
      "homegarden -> shoes confidence in this rule 0.088367 \n",
      "homegarden -> tools confidence in this rule 0.001119 \n",
      "movies -> outdoors confidence in this rule 0.000000 \n",
      "movies -> shoes confidence in this rule 0.089354 \n",
      "movies -> tools confidence in this rule 0.000000 \n",
      "outdoors -> shoes confidence in this rule 0.054054 \n",
      "outdoors -> tools confidence in this rule 0.000000 \n",
      "shoes -> tools confidence in this rule 0.000209 \n"
     ]
    }
   ],
   "source": [
    "for rule in candidate_rules:\n",
    "    print '%s -> %s confidence in this rule %f ' %(rule[0], rule[1], confidence(rule, session_db)) "
   ]
  },
  {
   "cell_type": "code",
   "execution_count": null,
   "metadata": {
    "collapsed": true
   },
   "outputs": [],
   "source": []
  },
  {
   "cell_type": "code",
   "execution_count": null,
   "metadata": {
    "collapsed": true
   },
   "outputs": [],
   "source": []
  },
  {
   "cell_type": "code",
   "execution_count": null,
   "metadata": {
    "collapsed": true
   },
   "outputs": [],
   "source": []
  },
  {
   "cell_type": "code",
   "execution_count": null,
   "metadata": {
    "collapsed": true
   },
   "outputs": [],
   "source": []
  },
  {
   "cell_type": "code",
   "execution_count": null,
   "metadata": {
    "collapsed": true
   },
   "outputs": [],
   "source": []
  },
  {
   "cell_type": "code",
   "execution_count": null,
   "metadata": {
    "collapsed": true
   },
   "outputs": [],
   "source": []
  },
  {
   "cell_type": "code",
   "execution_count": null,
   "metadata": {
    "collapsed": true
   },
   "outputs": [],
   "source": []
  },
  {
   "cell_type": "code",
   "execution_count": null,
   "metadata": {
    "collapsed": true
   },
   "outputs": [],
   "source": []
  }
 ],
 "metadata": {
  "kernelspec": {
   "display_name": "Python 2",
   "language": "python",
   "name": "python2"
  },
  "language_info": {
   "codemirror_mode": {
    "name": "ipython",
    "version": 2
   },
   "file_extension": ".py",
   "mimetype": "text/x-python",
   "name": "python",
   "nbconvert_exporter": "python",
   "pygments_lexer": "ipython2",
   "version": "2.7.10"
  }
 },
 "nbformat": 4,
 "nbformat_minor": 0
}
